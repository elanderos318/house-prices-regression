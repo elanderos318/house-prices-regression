{
 "cells": [
  {
   "cell_type": "code",
   "execution_count": null,
   "metadata": {},
   "outputs": [],
   "source": [
    "import pandas as pd\n",
    "import matplotlib.pyplot as plt\n",
    "import seaborn as sns\n",
    "import numpy as np\n",
    "from scipy.stats import norm, skew\n",
    "from sklearn.preprocessing import StandardScaler\n",
    "from scipy import stats\n",
    "import warnings\n",
    "warnings.filterwarnings('ignore')\n",
    "%matplotlib inline"
   ]
  },
  {
   "cell_type": "code",
   "execution_count": null,
   "metadata": {},
   "outputs": [],
   "source": [
    "color= sns.color_palette()\n",
    "sns.set_style('darkgrid')"
   ]
  },
  {
   "cell_type": "code",
   "execution_count": null,
   "metadata": {},
   "outputs": [],
   "source": [
    "df_train = pd.read_csv(\"../datasets/train.csv\")\n",
    "df_test = pd.read_csv(\"../datasets/test.csv\")\n",
    "\n",
    "Id = df_test[\"Id\"]\n",
    "\n",
    "df_train.set_index(\"Id\", inplace = True)\n",
    "df_test.set_index(\"Id\", inplace = True)"
   ]
  },
  {
   "cell_type": "code",
   "execution_count": null,
   "metadata": {},
   "outputs": [],
   "source": [
    "df_train.head()"
   ]
  },
  {
   "cell_type": "code",
   "execution_count": null,
   "metadata": {},
   "outputs": [],
   "source": [
    "df_test.head()"
   ]
  },
  {
   "cell_type": "code",
   "execution_count": null,
   "metadata": {},
   "outputs": [],
   "source": [
    "print(df_train.shape)\n",
    "print(df_test.shape)"
   ]
  },
  {
   "cell_type": "code",
   "execution_count": null,
   "metadata": {},
   "outputs": [],
   "source": [
    "df_train.columns"
   ]
  },
  {
   "cell_type": "code",
   "execution_count": null,
   "metadata": {},
   "outputs": [],
   "source": [
    "df_train[\"SalePrice\"].describe()"
   ]
  },
  {
   "cell_type": "code",
   "execution_count": null,
   "metadata": {},
   "outputs": [],
   "source": [
    "# plt.hist(df_train[\"SalePrice\"], normed=True)\n",
    "\n",
    "sns.distplot(df_train['SalePrice'])\n",
    "plt.xticks(rotation=90)"
   ]
  },
  {
   "cell_type": "code",
   "execution_count": null,
   "metadata": {},
   "outputs": [],
   "source": [
    "print(\"Skewness: %f\" % df_train['SalePrice'].skew())\n",
    "print(\"Kurtosis: %f\" % df_train['SalePrice'].kurt())"
   ]
  },
  {
   "cell_type": "code",
   "execution_count": null,
   "metadata": {},
   "outputs": [],
   "source": [
    "null_values = df_train.isnull().sum().loc[lambda x: x > 0]\n",
    "null_count = len(df_train)\n",
    "null_percent = null_values / null_count\n",
    "pd.DataFrame({\"null_count\":null_values, \"null_percent\":null_percent}).\\\n",
    "    sort_values(['null_count'], ascending=False)"
   ]
  },
  {
   "cell_type": "code",
   "execution_count": null,
   "metadata": {},
   "outputs": [],
   "source": [
    "missing_columns = ['PoolQC', 'MiscFeature', 'Alley', 'Fence',\n",
    "                  'FireplaceQu', 'LotFrontage']\n",
    "df_train.drop(missing_columns, inplace=True, axis=1)\n",
    "df_test.drop(missing_columns, inplace=True, axis=1)"
   ]
  },
  {
   "cell_type": "code",
   "execution_count": null,
   "metadata": {},
   "outputs": [],
   "source": [
    "null_values = df_train.isnull().sum().loc[lambda x: x > 0]\n",
    "null_count = len(df_train)\n",
    "null_percent = null_values / null_count\n",
    "pd.DataFrame({\"null_count\":null_values, \"null_percent\":null_percent}).\\\n",
    "    sort_values(['null_count'], ascending=False)"
   ]
  },
  {
   "cell_type": "code",
   "execution_count": null,
   "metadata": {},
   "outputs": [],
   "source": [
    "df_train.columns"
   ]
  },
  {
   "cell_type": "code",
   "execution_count": null,
   "metadata": {},
   "outputs": [],
   "source": [
    "feature_categories = {\n",
    "    'MSSubClass': 'c',\n",
    "    'MSZoning': 'c',\n",
    "    'LotArea': 'n',\n",
    "    'Street': 'c',\n",
    "    'LotShape': 'c',\n",
    "    'LandContour': 'c',\n",
    "    'Utilities': 'c',\n",
    "    'LotConfig': 'c',\n",
    "    'LandSlope': 'c',\n",
    "    'Neighborhood': 'c',\n",
    "    'Condition1': 'c',\n",
    "    'Condition2': 'c',\n",
    "    'BldgType': 'c',\n",
    "    'HouseStyle': 'c',\n",
    "    'OverallQual': 'c',\n",
    "    'OverallCond': 'c',\n",
    "    'YearBuilt': 'n',\n",
    "    'YearRemodAdd': 'n',\n",
    "    'RoofStyle': 'c',\n",
    "    'RoofMatl': 'c',\n",
    "    'Exterior1st': 'c',\n",
    "    'Exterior2nd': 'c',\n",
    "    'MasVnrType': 'c',\n",
    "    'MasVnrArea': 'n',\n",
    "    'ExterQual': 'c',\n",
    "    'ExterCond': 'c',\n",
    "    'Foundation': 'c',\n",
    "    'BsmtQual': 'c',\n",
    "    'BsmtCond': 'c',\n",
    "    'BsmtExposure': 'c',\n",
    "    'BsmtFinType1': 'c',\n",
    "    'BsmtFinSF1': 'n',\n",
    "    'BsmtFinType2': 'c',\n",
    "    'BsmtFinSF2': 'n',\n",
    "    'BsmtUnfSF': 'n',\n",
    "    'TotalBsmtSF': 'n',\n",
    "    'Heating': 'c',\n",
    "    'HeatingQC': 'c',\n",
    "    'CentralAir': 'c',\n",
    "    'Electrical': 'c',\n",
    "    '1stFlrSF': 'n',\n",
    "    '2ndFlrSF': 'n',\n",
    "    'LowQualFinSF': 'n',\n",
    "    'GrLivArea': 'n',\n",
    "    'BsmtFullBath': 'n',\n",
    "    'BsmtHalfBath': 'n',\n",
    "    'FullBath': 'n',\n",
    "    'HalfBath': 'n',\n",
    "    'KitchenAbvGr': 'n',\n",
    "    'KitchenQual': 'c',\n",
    "    'TotRmsAbvGrd': 'n',\n",
    "    'Functional': 'c',\n",
    "    'Fireplaces': 'n',\n",
    "    'GarageType': 'c',\n",
    "    'GarageYrBlt': 'n',\n",
    "    'GarageFinish': 'c',\n",
    "    'GarageCars': 'n',\n",
    "    'GarageArea': 'n',\n",
    "    'GarageQual': 'c',\n",
    "    'GarageCond': 'c',\n",
    "    'PavedDrive': 'c',\n",
    "    'WoodDeckSF': 'n',\n",
    "    'OpenPorchSF': 'n',\n",
    "    'EnclosedPorch': 'n',\n",
    "    '3SsnPorch': 'n',\n",
    "    'ScreenPorch': 'n',\n",
    "    'PoolArea': 'n',\n",
    "    'MiscVal': 'n',\n",
    "    'MoSold': 'c',\n",
    "    'YrSold': 'n',\n",
    "    'SaleType': 'c',\n",
    "    'SaleCondition': 'c'\n",
    "}"
   ]
  },
  {
   "cell_type": "code",
   "execution_count": null,
   "metadata": {},
   "outputs": [],
   "source": [
    "def categorical_comp(df, var):\n",
    "    data = pd.concat([df['SalePrice'], df[var]], axis = 1).sort_values(var, ascending=False)\n",
    "\n",
    "    f, ax = plt.subplots(figsize=(8,6))\n",
    "    fig = sns.boxplot(x=var, y='SalePrice', data = data)\n",
    "    plt.xticks(rotation=90)"
   ]
  },
  {
   "cell_type": "code",
   "execution_count": null,
   "metadata": {},
   "outputs": [],
   "source": [
    "months_replace = {\n",
    "    1: 'jan',\n",
    "    2: 'feb',\n",
    "    3: 'mar',\n",
    "    4: 'apr',\n",
    "    5: 'may',\n",
    "    6: 'jun',\n",
    "    7: 'jul',\n",
    "    8: 'aug',\n",
    "    9: 'sep',\n",
    "    10: 'oct',\n",
    "    11: 'nov',\n",
    "    12: 'dec'\n",
    "}"
   ]
  },
  {
   "cell_type": "code",
   "execution_count": null,
   "metadata": {},
   "outputs": [],
   "source": [
    "df_train['MoSold'].replace(months_replace, inplace=True)\n",
    "df_test['MoSold'].replace(months_replace, inplace=True)"
   ]
  },
  {
   "cell_type": "code",
   "execution_count": null,
   "metadata": {},
   "outputs": [],
   "source": [
    "overall_qual_replace= {\n",
    "    10: \"a\",\n",
    "    9: 'b',\n",
    "    8: 'c',\n",
    "    7: 'd',\n",
    "    6: 'e',\n",
    "    5: 'f',\n",
    "    4: 'g',\n",
    "    3: 'h',\n",
    "    2: 'i',\n",
    "    1: \"j\"\n",
    "}\n",
    "\n",
    "overall_cond_replace= {\n",
    "    10: \"a\",\n",
    "    9: 'b',\n",
    "    8: 'c',\n",
    "    7: 'd',\n",
    "    6: 'e',\n",
    "    5: 'f',\n",
    "    4: 'g',\n",
    "    3: 'h',\n",
    "    2: 'i',\n",
    "    1: \"j\"\n",
    "}"
   ]
  },
  {
   "cell_type": "code",
   "execution_count": null,
   "metadata": {},
   "outputs": [],
   "source": [
    "print(df_train['MoSold'].unique())\n",
    "print(df_train['MoSold'].value_counts())"
   ]
  },
  {
   "cell_type": "code",
   "execution_count": null,
   "metadata": {},
   "outputs": [],
   "source": [
    "categorical_comp(df_train, 'MoSold')"
   ]
  },
  {
   "cell_type": "code",
   "execution_count": null,
   "metadata": {},
   "outputs": [],
   "source": [
    "df_train['OverallQual'].replace(overall_qual_replace, inplace=True)\n",
    "df_test['OverallQual'].replace(overall_qual_replace, inplace=True)\n",
    "\n",
    "df_train['OverallCond'].replace(overall_cond_replace, inplace=True)\n",
    "df_test['OverallCond'].replace(overall_cond_replace, inplace=True)"
   ]
  },
  {
   "cell_type": "code",
   "execution_count": null,
   "metadata": {},
   "outputs": [],
   "source": [
    "print(df_train['OverallQual'].unique())\n",
    "print(df_train['OverallQual'].value_counts())\n",
    "\n",
    "print(df_train['OverallCond'].unique())\n",
    "print(df_train['OverallCond'].value_counts())"
   ]
  },
  {
   "cell_type": "code",
   "execution_count": null,
   "metadata": {},
   "outputs": [],
   "source": [
    "categorical_comp(df_train, 'OverallQual')\n",
    "categorical_comp(df_train, 'OverallCond')"
   ]
  },
  {
   "cell_type": "code",
   "execution_count": null,
   "metadata": {},
   "outputs": [],
   "source": [
    "sns.distplot(df_train['SalePrice'], fit=norm)\n",
    "\n",
    "(mu, sigma) = norm.fit(df_train['SalePrice'])\n",
    "\n",
    "print( '\\n mu = {:.2f} and sigma = {:.2f}\\n'.format(mu, sigma))\n",
    "\n",
    "plt.legend(['Normal dist. ($\\mu=$ {:.2f} and $\\sigma=$ {:.2f})'.format(mu, sigma)],\n",
    "           loc = 'best')\n",
    "plt.ylabel('Frequency')\n",
    "plt.title('SalePrice distribution')\n",
    "\n",
    "fig = plt.figure()\n",
    "res = stats.probplot(df_train['SalePrice'], plot = plt)\n",
    "plt.show()"
   ]
  },
  {
   "cell_type": "code",
   "execution_count": null,
   "metadata": {},
   "outputs": [],
   "source": [
    "df_train['SalePrice'] = np.log1p(df_train['SalePrice'])\n",
    "\n",
    "sns.distplot(df_train['SalePrice'], fit=norm)\n",
    "\n",
    "(mu, sigma) = norm.fit(df_train['SalePrice'])\n",
    "\n",
    "print( '\\n mu = {:.2f} and sigma = {:.2f}\\n'.format(mu, sigma))\n",
    "\n",
    "plt.legend(['Normal dist. ($\\mu=$ {:.2f} and $\\sigma=$ {:.2f})'.format(mu, sigma)],\n",
    "           loc = 'best')\n",
    "plt.ylabel('Frequency')\n",
    "plt.title('SalePrice distribution')\n",
    "\n",
    "fig = plt.figure()\n",
    "res = stats.probplot(df_train['SalePrice'], plot = plt)\n",
    "plt.show()"
   ]
  },
  {
   "cell_type": "code",
   "execution_count": null,
   "metadata": {},
   "outputs": [],
   "source": [
    "var = \"MSSubClass\"\n",
    "data = pd.concat([df_train['SalePrice'], df_train[var]], axis = 1)\n",
    "data.plot.scatter(x=var, y='SalePrice')\n",
    "\n",
    "f, ax = plt.subplots(figsize=(8,6))\n",
    "fig = sns.boxplot(x=var, y='SalePrice', data = data)"
   ]
  },
  {
   "cell_type": "code",
   "execution_count": null,
   "metadata": {},
   "outputs": [],
   "source": [
    "ms_sub_class_replace = {\n",
    "    20: 'a',\n",
    "    30: 'b',\n",
    "    40: 'c',\n",
    "    45: 'd',\n",
    "    50: 'e',\n",
    "    60: 'f',\n",
    "    70: 'g',\n",
    "    75: 'h',\n",
    "    80: 'i',\n",
    "    85: 'j',\n",
    "    90: 'k',\n",
    "    120: 'l',\n",
    "    150: 'm',\n",
    "    160: 'n',\n",
    "    180: 'o',\n",
    "    190: 'p'\n",
    "}"
   ]
  },
  {
   "cell_type": "code",
   "execution_count": null,
   "metadata": {},
   "outputs": [],
   "source": [
    "df_train['MSSubClass'].replace(ms_sub_class_replace, inplace=True)\n",
    "df_test['MSSubClass'].replace(ms_sub_class_replace, inplace=True)"
   ]
  },
  {
   "cell_type": "code",
   "execution_count": null,
   "metadata": {},
   "outputs": [],
   "source": [
    "print(df_train['MSSubClass'].unique())\n",
    "print(df_train['MSSubClass'].value_counts())"
   ]
  },
  {
   "cell_type": "code",
   "execution_count": null,
   "metadata": {},
   "outputs": [],
   "source": [
    "categorical_comp(df_train, \"MSSubClass\")"
   ]
  },
  {
   "cell_type": "code",
   "execution_count": null,
   "metadata": {},
   "outputs": [],
   "source": [
    "categorical_features = dict(filter(lambda x: x[1]=='c', feature_categories.items()))"
   ]
  },
  {
   "cell_type": "code",
   "execution_count": null,
   "metadata": {},
   "outputs": [],
   "source": [
    "categorical_features"
   ]
  },
  {
   "cell_type": "code",
   "execution_count": null,
   "metadata": {},
   "outputs": [],
   "source": [
    "for key in categorical_features:\n",
    "    categorical_comp(df_train, key)"
   ]
  },
  {
   "cell_type": "code",
   "execution_count": null,
   "metadata": {},
   "outputs": [],
   "source": [
    "df_train.columns"
   ]
  },
  {
   "cell_type": "code",
   "execution_count": null,
   "metadata": {},
   "outputs": [],
   "source": [
    "year_features = [\n",
    "    'YearBuilt',\n",
    "    'YearRemodAdd',\n",
    "    'GarageYrBlt',\n",
    "    'YrSold'\n",
    "]"
   ]
  },
  {
   "cell_type": "code",
   "execution_count": null,
   "metadata": {},
   "outputs": [],
   "source": [
    "df_train[year_features].describe()"
   ]
  },
  {
   "cell_type": "code",
   "execution_count": null,
   "metadata": {},
   "outputs": [],
   "source": [
    "year_min = 1900\n",
    "year_max = 2010\n",
    "\n",
    "df_train['YearBuilt'] = 2010 - df_train['YearBuilt']\n",
    "df_train['YearRemodAdd'] = 2010 - df_train['YearRemodAdd']\n",
    "df_train['GarageYrBlt'] = 2010 - df_train['GarageYrBlt']\n",
    "df_train['YrSold'] = 2010 - df_train['YrSold']\n",
    "\n",
    "df_test['YearBuilt'] = 2010 - df_test['YearBuilt']\n",
    "df_test['YearRemodAdd'] = 2010 - df_test['YearRemodAdd']\n",
    "df_test['GarageYrBlt'] = 2010 - df_test['GarageYrBlt']\n",
    "df_test['YrSold'] = 2010 - df_test['YrSold']"
   ]
  },
  {
   "cell_type": "code",
   "execution_count": null,
   "metadata": {},
   "outputs": [],
   "source": [
    "df_train[year_features].describe()"
   ]
  },
  {
   "cell_type": "code",
   "execution_count": null,
   "metadata": {},
   "outputs": [],
   "source": [
    "def numerical_comp(df, var):\n",
    "    data = pd.concat([df['SalePrice'], df[var]], axis = 1)\n",
    "\n",
    "#     f, ax = plt.subplots(figsize=(8,6))\n",
    "    data.plot.scatter(x=var, y='SalePrice')\n",
    "    plt.xticks(rotation=90)"
   ]
  },
  {
   "cell_type": "code",
   "execution_count": null,
   "metadata": {},
   "outputs": [],
   "source": [
    "numerical_filtered = dict(filter(lambda x: x[1]=='n', feature_categories.items()))"
   ]
  },
  {
   "cell_type": "code",
   "execution_count": null,
   "metadata": {},
   "outputs": [],
   "source": [
    "numerical_filtered"
   ]
  },
  {
   "cell_type": "code",
   "execution_count": null,
   "metadata": {},
   "outputs": [],
   "source": [
    "numerical_features = [key for key in numerical_filtered]\n",
    "numerical_features"
   ]
  },
  {
   "cell_type": "code",
   "execution_count": null,
   "metadata": {},
   "outputs": [],
   "source": [
    "df_train[numerical_features].head()"
   ]
  },
  {
   "cell_type": "code",
   "execution_count": null,
   "metadata": {},
   "outputs": [],
   "source": [
    "for feature in numerical_filtered:\n",
    "    numerical_comp(df_train, feature)"
   ]
  },
  {
   "cell_type": "code",
   "execution_count": null,
   "metadata": {},
   "outputs": [],
   "source": [
    "outlier_features = [\n",
    "    'BsmtFinSF1',\n",
    "    'TotalBsmtSF',\n",
    "    '1stFlrSF',\n",
    "    'GrLivArea',\n",
    "    'GarageArea',\n",
    "    'OpenPorchSF'\n",
    "]"
   ]
  },
  {
   "cell_type": "code",
   "execution_count": null,
   "metadata": {},
   "outputs": [],
   "source": [
    "for feature in outlier_features:\n",
    "    corr = df_train['SalePrice'].corr(df_train[feature])\n",
    "    print(f'Corr SalesPrice and {feature}: {corr}')"
   ]
  },
  {
   "cell_type": "code",
   "execution_count": null,
   "metadata": {},
   "outputs": [],
   "source": [
    "df_train = df_train.drop(df_train[(df_train['GrLivArea'] > 4000) &\n",
    "                                 (df_train['SalePrice'] < 12.5)].index)"
   ]
  },
  {
   "cell_type": "code",
   "execution_count": null,
   "metadata": {},
   "outputs": [],
   "source": [
    "for feature in outlier_features:\n",
    "    numerical_comp(df_train, feature)"
   ]
  },
  {
   "cell_type": "code",
   "execution_count": null,
   "metadata": {},
   "outputs": [],
   "source": [
    "# df_train['SalePrice'] = np.log1p(df_train['SalePrice'])\n",
    "\n",
    "sns.distplot(df_train['GarageArea'][df_train['GarageArea'] > 0], fit=norm)\n",
    "\n",
    "(mu, sigma) = norm.fit(df_train['GarageArea'][df_train['GarageArea'] > 0])\n",
    "\n",
    "print( '\\n mu = {:.2f} and sigma = {:.2f}\\n'.format(mu, sigma))\n",
    "\n",
    "plt.legend(['Normal dist. ($\\mu=$ {:.2f} and $\\sigma=$ {:.2f})'.format(mu, sigma)],\n",
    "           loc = 'best')\n",
    "plt.ylabel('Frequency')\n",
    "plt.title('GarageArea distribution')\n",
    "\n",
    "fig = plt.figure()\n",
    "res = stats.probplot(df_train['GarageArea'][df_train['GarageArea'] > 0], plot = plt)\n",
    "plt.show()"
   ]
  },
  {
   "cell_type": "code",
   "execution_count": null,
   "metadata": {},
   "outputs": [],
   "source": []
  }
 ],
 "metadata": {
  "kernelspec": {
   "display_name": "Python 3",
   "language": "python",
   "name": "python3"
  },
  "language_info": {
   "codemirror_mode": {
    "name": "ipython",
    "version": 3
   },
   "file_extension": ".py",
   "mimetype": "text/x-python",
   "name": "python",
   "nbconvert_exporter": "python",
   "pygments_lexer": "ipython3",
   "version": "3.7.1"
  }
 },
 "nbformat": 4,
 "nbformat_minor": 2
}
